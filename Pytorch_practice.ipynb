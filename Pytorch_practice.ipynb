{
  "nbformat": 4,
  "nbformat_minor": 0,
  "metadata": {
    "colab": {
      "provenance": [],
      "authorship_tag": "ABX9TyO/ex5JiEMVA+n38CXS2Uq+",
      "include_colab_link": true
    },
    "kernelspec": {
      "name": "python3",
      "display_name": "Python 3"
    },
    "language_info": {
      "name": "python"
    }
  },
  "cells": [
    {
      "cell_type": "markdown",
      "metadata": {
        "id": "view-in-github",
        "colab_type": "text"
      },
      "source": [
        "<a href=\"https://colab.research.google.com/github/NabidAlam/100-days-of-python-programming/blob/main/Pytorch_practice.ipynb\" target=\"_parent\"><img src=\"https://colab.research.google.com/assets/colab-badge.svg\" alt=\"Open In Colab\"/></a>"
      ]
    },
    {
      "cell_type": "code",
      "execution_count": 1,
      "metadata": {
        "colab": {
          "base_uri": "https://localhost:8080/"
        },
        "id": "97pRFqP1KVjD",
        "outputId": "d8fad901-e643-4087-834e-5198333dbca2"
      },
      "outputs": [
        {
          "output_type": "stream",
          "name": "stdout",
          "text": [
            "[0, 1, 2, 3, 4, 5, 6, 7, 8, 9]\n",
            "tensor([0, 1, 2, 3, 4, 5, 6, 7, 8, 9])\n"
          ]
        }
      ],
      "source": [
        "import torch\n",
        "\n",
        "lst  = list(range(10))\n",
        "print(lst)\n",
        "\n",
        "a = torch.tensor(lst)\n",
        "print(a)"
      ]
    },
    {
      "cell_type": "code",
      "source": [
        "tensor2d = torch.tensor([[1,2,3],\n",
        "                        [4,5,6]])\n",
        "tensor3d = torch.tensor([[1,2,3],\n",
        "                        [4,5,6],\n",
        "                        [4,5,6]])\n",
        "tensor4d = torch.tensor([[1,2,3],\n",
        "                        [4,5,6],\n",
        "                        [4,5,6],\n",
        "                        [4,5,6]])\n",
        "tensor5d = torch.tensor([[1,2,3],\n",
        "                        [4,5,6],\n",
        "                        [4,5,6],\n",
        "                        [4,5,6],\n",
        "                        [4,5,6]])\n"
      ],
      "metadata": {
        "id": "-BElFuEuKoRN"
      },
      "execution_count": 3,
      "outputs": []
    },
    {
      "cell_type": "code",
      "source": [
        "print(tensor2d)"
      ],
      "metadata": {
        "colab": {
          "base_uri": "https://localhost:8080/"
        },
        "id": "JQj-Qn9KKoTw",
        "outputId": "bf178f89-cdea-4aff-881d-026cdccdb97d"
      },
      "execution_count": 4,
      "outputs": [
        {
          "output_type": "stream",
          "name": "stdout",
          "text": [
            "tensor([[1, 2, 3],\n",
            "        [4, 5, 6]])\n"
          ]
        }
      ]
    },
    {
      "cell_type": "code",
      "source": [
        "tensor2d.dtype"
      ],
      "metadata": {
        "colab": {
          "base_uri": "https://localhost:8080/"
        },
        "id": "Fg3ecJ7qKoWX",
        "outputId": "ce7a18b8-ee5c-4862-e286-7b153bc2a5a3"
      },
      "execution_count": 5,
      "outputs": [
        {
          "output_type": "execute_result",
          "data": {
            "text/plain": [
              "torch.int64"
            ]
          },
          "metadata": {},
          "execution_count": 5
        }
      ]
    },
    {
      "cell_type": "code",
      "source": [
        "import numpy as np\n",
        "\n",
        "nparray = np.array(list(range(10)))\n",
        "print(f\"Numpy array: {nparray}\")\n",
        "print(f\"Numpy array type: {nparray.dtype}\")\n"
      ],
      "metadata": {
        "colab": {
          "base_uri": "https://localhost:8080/"
        },
        "id": "1aowSI_wKoYl",
        "outputId": "5c446ae8-bb1c-4696-bb27-a0450e6364dc"
      },
      "execution_count": 6,
      "outputs": [
        {
          "output_type": "stream",
          "name": "stdout",
          "text": [
            "Numpy array: [0 1 2 3 4 5 6 7 8 9]\n",
            "Numpy array type: int64\n"
          ]
        }
      ]
    },
    {
      "cell_type": "code",
      "source": [
        "torch_tensor = torch.tensor(nparray)\n",
        "print(f\"Torch tensor: {torch_tensor}\")\n",
        "print(f\"Torch tensor type: {torch_tensor.dtype}\")"
      ],
      "metadata": {
        "colab": {
          "base_uri": "https://localhost:8080/"
        },
        "id": "ET-_xKctOUaQ",
        "outputId": "b82ce067-2467-4619-c1f9-5a6d6333bd83"
      },
      "execution_count": 7,
      "outputs": [
        {
          "output_type": "stream",
          "name": "stdout",
          "text": [
            "Torch tensor: tensor([0, 1, 2, 3, 4, 5, 6, 7, 8, 9])\n",
            "Torch tensor type: torch.int64\n"
          ]
        }
      ]
    },
    {
      "cell_type": "code",
      "source": [
        "torch_tensor = torch.from_numpy(nparray)\n",
        "print(f\"Torch tensor: {torch_tensor}\")\n",
        "print(f\"Torch tensor type: {torch_tensor.dtype}\")"
      ],
      "metadata": {
        "colab": {
          "base_uri": "https://localhost:8080/"
        },
        "id": "4JQz11g7OUck",
        "outputId": "e53802d6-7c94-4461-a8de-1d5352658a47"
      },
      "execution_count": 8,
      "outputs": [
        {
          "output_type": "stream",
          "name": "stdout",
          "text": [
            "Torch tensor: tensor([0, 1, 2, 3, 4, 5, 6, 7, 8, 9])\n",
            "Torch tensor type: torch.int64\n"
          ]
        }
      ]
    },
    {
      "cell_type": "markdown",
      "source": [],
      "metadata": {
        "id": "PF6rN10ZOh8k"
      }
    },
    {
      "cell_type": "code",
      "source": [
        "c = torch_tensor.numpy()\n",
        "print(f\"Numpy array: {c}\")\n",
        "print(f\"Numpy array type: {c.dtype}\")"
      ],
      "metadata": {
        "colab": {
          "base_uri": "https://localhost:8080/"
        },
        "id": "7YXt3FAnOUe6",
        "outputId": "5b7037d4-d787-4b38-d97d-2863b10435e2"
      },
      "execution_count": 9,
      "outputs": [
        {
          "output_type": "stream",
          "name": "stdout",
          "text": [
            "Numpy array: [0 1 2 3 4 5 6 7 8 9]\n",
            "Numpy array type: int64\n"
          ]
        }
      ]
    },
    {
      "cell_type": "code",
      "source": [],
      "metadata": {
        "id": "-cc2mx4HOUhf"
      },
      "execution_count": null,
      "outputs": []
    },
    {
      "cell_type": "code",
      "source": [],
      "metadata": {
        "id": "2qqO8FBWOwTk"
      },
      "execution_count": null,
      "outputs": []
    },
    {
      "cell_type": "code",
      "source": [],
      "metadata": {
        "id": "68XBoIQjOwWB"
      },
      "execution_count": null,
      "outputs": []
    },
    {
      "cell_type": "code",
      "source": [],
      "metadata": {
        "id": "IUQA09clOwYe"
      },
      "execution_count": null,
      "outputs": []
    },
    {
      "cell_type": "code",
      "source": [],
      "metadata": {
        "id": "SluFE-UgOwbD"
      },
      "execution_count": null,
      "outputs": []
    },
    {
      "cell_type": "code",
      "source": [],
      "metadata": {
        "id": "Hhdz5AGSOwdo"
      },
      "execution_count": null,
      "outputs": []
    },
    {
      "cell_type": "code",
      "source": [],
      "metadata": {
        "id": "49XTOQhtOwgO"
      },
      "execution_count": null,
      "outputs": []
    },
    {
      "cell_type": "code",
      "source": [],
      "metadata": {
        "id": "gY90wls-OwjP"
      },
      "execution_count": null,
      "outputs": []
    },
    {
      "cell_type": "code",
      "source": [],
      "metadata": {
        "id": "uULyKxBZOwlo"
      },
      "execution_count": null,
      "outputs": []
    },
    {
      "cell_type": "code",
      "source": [],
      "metadata": {
        "id": "6S6F1jX9OwoT"
      },
      "execution_count": null,
      "outputs": []
    },
    {
      "cell_type": "code",
      "source": [],
      "metadata": {
        "id": "P1mFc_SLOwrF"
      },
      "execution_count": null,
      "outputs": []
    },
    {
      "cell_type": "code",
      "source": [],
      "metadata": {
        "id": "U0ao0FB-Owtv"
      },
      "execution_count": null,
      "outputs": []
    },
    {
      "cell_type": "code",
      "source": [],
      "metadata": {
        "id": "o0eHkkSaOwwX"
      },
      "execution_count": null,
      "outputs": []
    },
    {
      "cell_type": "code",
      "source": [],
      "metadata": {
        "id": "qvW8W1TaOUkQ"
      },
      "execution_count": null,
      "outputs": []
    },
    {
      "cell_type": "code",
      "source": [],
      "metadata": {
        "id": "gvakUnyuOUmy"
      },
      "execution_count": null,
      "outputs": []
    },
    {
      "cell_type": "code",
      "source": [],
      "metadata": {
        "id": "deGGawK2OUpI"
      },
      "execution_count": null,
      "outputs": []
    },
    {
      "cell_type": "code",
      "source": [],
      "metadata": {
        "id": "Ip0k6E5zOUrk"
      },
      "execution_count": null,
      "outputs": []
    }
  ]
}